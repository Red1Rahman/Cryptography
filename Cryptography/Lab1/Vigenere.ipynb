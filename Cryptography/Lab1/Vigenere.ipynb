{
 "cells": [
  {
   "cell_type": "code",
   "execution_count": 18,
   "metadata": {},
   "outputs": [],
   "source": [
    "def chartonum(char):\n",
    "    if(char<'a'):\n",
    "        return (ord(char) -ord('A'))\n",
    "    else:\n",
    "        return (ord(char)-ord('A')-6)\n",
    "\n",
    "def numtochar(num):\n",
    "    if(num<26):\n",
    "        return chr(ord('A')+num)\n",
    "    else:\n",
    "        return chr(ord('A')+6+num)\n",
    "    \n",
    "def encrypt1(char,key):\n",
    "    return numtochar((chartonum(char) + chartonum(key))%52)\n",
    "\n",
    "def decrypt1(char,key):\n",
    "    res = chartonum(char) - chartonum(key)\n",
    "    if(res<0):\n",
    "           res += 52\n",
    "           \n",
    "    return numtochar(res%52)\n",
    "\n",
    "punc = [',','.','?',':','\"',' ','\\n']\n",
    "\n",
    "def encrypt(message, keytext):\n",
    "    keypos = 0\n",
    "    cipher = \"\"\n",
    "    for char in message:\n",
    "        if char not in punc:\n",
    "            newChar = encrypt1(char,keytext[keypos])\n",
    "            #print(char, keytext[keypos])\n",
    "            keypos+=1\n",
    "            keypos%=len(keytext)\n",
    "        else:\n",
    "            newChar = char\n",
    "        \n",
    "        cipher += newChar\n",
    "        #print(newChar, end='')\n",
    "           \n",
    "           \n",
    "    print(\"Final cipher: \" + cipher)\n",
    "    outFile = open(\"output.txt\",\"w\")\n",
    "    outFile.write(cipher)\n",
    "    \n",
    "    \n",
    "def decrypt(keytext):\n",
    "    inFile = open(\"output.txt\",\"r\")\n",
    "    message = \"\"\n",
    "    keypos = 0\n",
    "           \n",
    "    cipher = inFile.read()\n",
    "    \n",
    "    for char in cipher:\n",
    "        if char not in punc:\n",
    "            newChar = decrypt1(char,keytext[keypos])\n",
    "            #print(char, keytext[keypos])\n",
    "            keypos+=1\n",
    "            keypos%=len(keytext)\n",
    "        else:\n",
    "            newChar = char\n",
    "        \n",
    "        message += newChar\n",
    "        #print(newChar, end='')\n",
    "        \n",
    "    print(\"Decrypted message: \"+ message)"
   ]
  },
  {
   "cell_type": "code",
   "execution_count": 19,
   "metadata": {},
   "outputs": [
    {
     "name": "stdout",
     "output_type": "stream",
     "text": [
      "Original Message: AbCdEfGhIjKlMn\n",
      "Key: koniChiwA\n",
      "Final cipher: kPpLGModITyYup\n",
      "Decrypted message: AbCdEfGhIjKlMn\n"
     ]
    }
   ],
   "source": [
    "inFile = open(\"input.txt\",\"r\")\n",
    "keySource = open(\"key.txt\",\"r\")\n",
    "\n",
    "message = inFile.read()\n",
    "key = keySource.read()\n",
    "\n",
    "print(\"Original Message: \" + message + \"\\nKey: \" + key)\n",
    "\n",
    "encrypt(message,key)\n",
    "decrypt(key)"
   ]
  },
  {
   "cell_type": "code",
   "execution_count": null,
   "metadata": {},
   "outputs": [],
   "source": []
  },
  {
   "cell_type": "code",
   "execution_count": null,
   "metadata": {},
   "outputs": [],
   "source": []
  }
 ],
 "metadata": {
  "kernelspec": {
   "display_name": "Python 3",
   "language": "python",
   "name": "python3"
  },
  "language_info": {
   "codemirror_mode": {
    "name": "ipython",
    "version": 3
   },
   "file_extension": ".py",
   "mimetype": "text/x-python",
   "name": "python",
   "nbconvert_exporter": "python",
   "pygments_lexer": "ipython3",
   "version": "3.6.5"
  }
 },
 "nbformat": 4,
 "nbformat_minor": 2
}
