{
 "cells": [
  {
   "cell_type": "code",
   "execution_count": 2,
   "metadata": {},
   "outputs": [],
   "source": [
    "inFile = open(\"message.txt\",\"r\")\n",
    "outFile = open(\"cipher.txt\",\"w\")\n",
    "lines=inFile.readlines()\n",
    "for line in lines:\n",
    "    outFile.write(line)\n",
    "outFile.close()"
   ]
  },
  {
   "cell_type": "code",
   "execution_count": 4,
   "metadata": {
    "scrolled": true
   },
   "outputs": [
    {
     "name": "stdout",
     "output_type": "stream",
     "text": [
      "me\n",
      "Y wi paopejc pdeo bkn jks\n",
      "me\n",
      "me\n",
      "jb\n"
     ]
    }
   ],
   "source": [
    "inFile = open(\"message.txt\",\"r\")\n",
    "outFile = open(\"cipher.txt\",\"w\")\n",
    "\n",
    "res=\"me\"\n",
    "\n",
    "def encrypt_caeser(file):\n",
    "    lines = file.readlines()\n",
    "\n",
    "    cipher=\"\"\n",
    "    for line in lines:\n",
    "        for char in line:\n",
    "            if char == ' ':\n",
    "                cipher = cipher + char\n",
    "                continue\n",
    "            if ord(char)>=65 and ord(char)<97:\n",
    "                ciChar = (((ord(char)+3)%26)+65)\n",
    "                char = chr(ciChar)\n",
    "            else:\n",
    "                ciChar = (((ord(char)+3)%26)+97)\n",
    "                char = chr(ciChar)\n",
    "            cipher = cipher + char\n",
    "    print(cipher)\n",
    "    res = cipher\n",
    "    outFile.write(cipher+\"\\n\")\n",
    "    \n",
    "def decrypt_caeser():\n",
    "    lines = inFile.readlines()\n",
    "    text=\"\"\n",
    "    print(res)\n",
    "    for char in res:\n",
    "        if char == ' ':\n",
    "            text = text + char\n",
    "            continue\n",
    "        if ord(char)>=65 and ord(char)<97:\n",
    "            txChar = ord(char)-3\n",
    "            if(txChar<65):\n",
    "                txChar = txChar + 26\n",
    "            char = chr(txChar)\n",
    "        else:\n",
    "            txChar = ord(char)-3\n",
    "            if(txChar<97):\n",
    "                txChar = txChar + 26\n",
    "            char = chr(txChar)\n",
    "        text = text + char    \n",
    "    print(text)\n",
    "    \n",
    "    \n",
    "print(res)\n",
    "encrypt_caeser(inFile)\n",
    "print(res)\n",
    "decrypt_caeser()"
   ]
  },
  {
   "cell_type": "code",
   "execution_count": 59,
   "metadata": {},
   "outputs": [],
   "source": [
    "def chartonum(char):\n",
    "    if(char<'a'):\n",
    "        return (ord(char) -ord('A'))\n",
    "    else:\n",
    "        return (ord(char)-ord('A')-6)\n",
    "\n",
    "def numtochar(num):\n",
    "    if(num<26):\n",
    "        return chr(ord('A')+num)\n",
    "    else:\n",
    "        return chr(ord('A')+6+num)\n",
    "    \n",
    "def encrypt1(char,key):\n",
    "    return numtochar((chartonum(char) + chartonum(key))%52)\n",
    "\n",
    "def decrypt1(char,key):\n",
    "    res = chartonum(char) - chartonum(key)\n",
    "    if(res<0):\n",
    "           res += 52\n",
    "           \n",
    "    return numtochar(res%52)\n",
    "\n",
    "punc = [',','.','?',':','\"',' ']\n",
    "\n",
    "def encrypt(message, keytext):\n",
    "    keypos = 0\n",
    "    cipher = \"\"\n",
    "    for char in message:\n",
    "        if char not in punc:\n",
    "            newChar = encrypt1(char,keytext[keypos])\n",
    "            #print(char, keytext[keypos])\n",
    "            keypos+=1\n",
    "            keypos%=len(keytext)\n",
    "        else:\n",
    "            newChar = char\n",
    "        \n",
    "        cipher += newChar\n",
    "        #print(newChar, end='')\n",
    "           \n",
    "           \n",
    "    print(\"Final cipher: \" + cipher)\n",
    "    outFile = open(\"cipher.txt\",\"w\")\n",
    "    outFile.write(cipher)\n",
    "    \n",
    "    \n",
    "def decrypt(keytext):\n",
    "    inFile = open(\"cipher.txt\",\"r\")\n",
    "    message = \"\"\n",
    "    keypos = 0\n",
    "           \n",
    "    cipher = inFile.read()\n",
    "    \n",
    "    for char in cipher:\n",
    "        if char not in punc:\n",
    "            newChar = decrypt1(char,keytext[keypos])\n",
    "            #print(char, keytext[keypos])\n",
    "            keypos+=1\n",
    "            keypos%=len(keytext)\n",
    "        else:\n",
    "            newChar = char\n",
    "        \n",
    "        message += newChar\n",
    "        #print(newChar, end='')\n",
    "        \n",
    "    print(\"Decrypted message: \"+ message)"
   ]
  },
  {
   "cell_type": "code",
   "execution_count": 60,
   "metadata": {},
   "outputs": [
    {
     "name": "stdout",
     "output_type": "stream",
     "text": [
      "Hello. My name is Konohamaru and I am from Konoha. konichiwa\n",
      "Final cipher: rSYTQ. tg jAWS Va mVVkHKaNZW HVZ i Ka SZQT skNYVN.\n",
      "Decrypted message: Hello. My name is Konohamaru and I am from Konoha.\n"
     ]
    }
   ],
   "source": [
    "inFile = open(\"message.txt\",\"r\")\n",
    "keySource = open(\"key.txt\",\"r\")\n",
    "\n",
    "message = inFile.read()\n",
    "key = keySource.read()\n",
    "\n",
    "print(message + \" \" + key)\n",
    "\n",
    "encrypt(message,key)\n",
    "decrypt(key)"
   ]
  },
  {
   "cell_type": "code",
   "execution_count": null,
   "metadata": {},
   "outputs": [],
   "source": []
  },
  {
   "cell_type": "code",
   "execution_count": null,
   "metadata": {},
   "outputs": [],
   "source": []
  }
 ],
 "metadata": {
  "kernelspec": {
   "display_name": "Python 3",
   "language": "python",
   "name": "python3"
  },
  "language_info": {
   "codemirror_mode": {
    "name": "ipython",
    "version": 3
   },
   "file_extension": ".py",
   "mimetype": "text/x-python",
   "name": "python",
   "nbconvert_exporter": "python",
   "pygments_lexer": "ipython3",
   "version": "3.6.5"
  }
 },
 "nbformat": 4,
 "nbformat_minor": 2
}
