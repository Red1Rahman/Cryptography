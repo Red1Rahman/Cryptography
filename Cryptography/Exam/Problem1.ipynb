{
 "cells": [
  {
   "cell_type": "code",
   "execution_count": 19,
   "metadata": {},
   "outputs": [],
   "source": [
    "key = \"NETWORK\""
   ]
  },
  {
   "cell_type": "code",
   "execution_count": 20,
   "metadata": {},
   "outputs": [
    {
     "name": "stdout",
     "output_type": "stream",
     "text": [
      "NETWORK\n",
      "\n",
      "ABCDFGH\n",
      "\n",
      "IJLMPQS\n",
      "\n",
      "UVXYZ\n",
      " NETWORKABCDFGHIJLMPQSUVXYZ\n"
     ]
    }
   ],
   "source": [
    "keyMat = \"\"\n",
    "matrix = [[]*100 for x in range(10)]\n",
    "for i in range(len(key)):\n",
    "    if(key[i] in keyMat):\n",
    "        continue\n",
    "    keyMat += key[i]\n",
    "\n",
    "keySize = len(keyMat)\n",
    "x = 65\n",
    "for x in range(65,91):\n",
    "    if chr(x) in keyMat:\n",
    "        continue\n",
    "    keyMat += chr(x)\n",
    "    x += 1\n",
    "\n",
    "x = 0\n",
    "for i in range(len(keyMat)):\n",
    "    print(keyMat[i],end='')\n",
    "    matrix[x].append(keyMat[i])\n",
    "    if((i+1)%(keySize) == 0 and i!=0) :\n",
    "        x = x+1\n",
    "        print('\\n')\n",
    "print('\\n',keyMat)\n",
    "# print(matrix)"
   ]
  },
  {
   "cell_type": "code",
   "execution_count": 21,
   "metadata": {},
   "outputs": [
    {
     "name": "stdout",
     "output_type": "stream",
     "text": [
      "NAIUEBJVTCLXWDMYOFPZRGQKHS\n"
     ]
    }
   ],
   "source": [
    "pos = 0\n",
    "jumble = '';\n",
    "nval = int(len(keyMat)/keySize)\n",
    "val = (nval * keySize)\n",
    "for i in range(keySize):\n",
    "    for j in range((len(keyMat))):\n",
    "        if((j%keySize) == pos):\n",
    "#             print(keyMat[j], end='')\n",
    "            jumble += keyMat[j]\n",
    "#         print(j,end='')\n",
    "    pos +=1\n",
    "\n",
    "print(jumble)"
   ]
  },
  {
   "cell_type": "code",
   "execution_count": 22,
   "metadata": {},
   "outputs": [
    {
     "name": "stdout",
     "output_type": "stream",
     "text": [
      "NETWORK\n"
     ]
    }
   ],
   "source": [
    "pos = 0\n",
    "jumble = '';\n",
    "nval = int(len(keyMat)/keySize)\n",
    "val = (nval * keySize)\n",
    "for i in range(keySize):\n",
    "    for j in range((val)):\n",
    "        if((j%keySize) == pos):\n",
    "#             print(keyMat[j],j, end='')\n",
    "            jumble += keyMat[j]\n",
    "#         print(j,end='')\n",
    "    pos +=1\n",
    "\n",
    "# print(jumble)\n",
    "ret = ''\n",
    "for i in range(len(jumble)):\n",
    "    if(i%nval == 0):\n",
    "        ret+=jumble[i]\n",
    "        \n",
    "print(ret)"
   ]
  },
  {
   "cell_type": "code",
   "execution_count": 23,
   "metadata": {},
   "outputs": [
    {
     "name": "stdout",
     "output_type": "stream",
     "text": [
      "GSPQPOOYISIUOMTNWIKNHOPQTIGBHKNQIHTO\n"
     ]
    }
   ],
   "source": [
    "test = \"must see you over cadogan West. coming at once\"\n",
    "ret = ''\n",
    "for i in test:\n",
    "    if(ord(i)<97 or ord(i)>122):\n",
    "        continue\n",
    "    x = ord(i) - 97\n",
    "    ret += keyMat[x]\n",
    "    \n",
    "print(ret)"
   ]
  }
 ],
 "metadata": {
  "kernelspec": {
   "display_name": "Python 3",
   "language": "python",
   "name": "python3"
  },
  "language_info": {
   "codemirror_mode": {
    "name": "ipython",
    "version": 3
   },
   "file_extension": ".py",
   "mimetype": "text/x-python",
   "name": "python",
   "nbconvert_exporter": "python",
   "pygments_lexer": "ipython3",
   "version": "3.6.5"
  }
 },
 "nbformat": 4,
 "nbformat_minor": 2
}
